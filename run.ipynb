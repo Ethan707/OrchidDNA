{
  "cells": [
    {
      "cell_type": "code",
      "execution_count": null,
      "metadata": {
        "colab": {
          "base_uri": "https://localhost:8080/"
        },
        "id": "FKENACuVkeqW",
        "outputId": "5c3861d2-cf4e-4bd2-a422-4d7be2a5e34b"
      },
      "outputs": [],
      "source": [
        "!git clone https://github.com/Ethan707/OrchidDNA.git"
      ]
    },
    {
      "cell_type": "code",
      "execution_count": null,
      "metadata": {
        "colab": {
          "base_uri": "https://localhost:8080/"
        },
        "id": "8xmjoUVvkobB",
        "outputId": "4976bdea-4bc6-4ef4-e65a-1ceb3a081e1e"
      },
      "outputs": [],
      "source": [
        "%cd OrchidDNA\n",
        "%pip install -r requirements.txt\n",
        "%pip install flash-attn --no-build-isolation"
      ]
    },
    {
      "cell_type": "code",
      "execution_count": 1,
      "metadata": {
        "colab": {
          "base_uri": "https://localhost:8080/"
        },
        "id": "wjqnbvj7lJFz",
        "outputId": "5f358e13-8677-407d-ed46-f3414f732592"
      },
      "outputs": [
        {
          "name": "stdout",
          "output_type": "stream",
          "text": [
            "  % Total    % Received % Xferd  Average Speed   Time    Time     Time  Current\n",
            "                                 Dload  Upload   Total   Spent    Left  Speed\n",
            "100  839M  100  839M    0     0  10.7M      0  0:01:17  0:01:17 --:--:-- 11.2M\n",
            "  % Total    % Received % Xferd  Average Speed   Time    Time     Time  Current\n",
            "                                 Dload  Upload   Total   Spent    Left  Speed\n",
            "100 1112k  100 1112k    0     0  2335k      0 --:--:-- --:--:-- --:--:-- 2332k\n"
          ]
        }
      ],
      "source": [
        "!mkdir -p data/hg38/\n",
        "!curl https://storage.googleapis.com/basenji_barnyard2/hg38.ml.fa.gz > data/hg38/hg38.ml.fa.gz\n",
        "!curl https://storage.googleapis.com/basenji_barnyard2/sequences_human.bed > data/hg38/human-sequences.bed\n",
        "!gunzip data/hg38/hg38.ml.fa.gz"
      ]
    },
    {
      "cell_type": "markdown",
      "metadata": {},
      "source": [
        "# Hyena"
      ]
    },
    {
      "cell_type": "markdown",
      "metadata": {
        "id": "-xZEVwi7k-7L"
      },
      "source": [
        "### Pretrain"
      ]
    },
    {
      "cell_type": "code",
      "execution_count": null,
      "metadata": {
        "colab": {
          "base_uri": "https://localhost:8080/"
        },
        "id": "SrnOwLKykyX4",
        "outputId": "51c61793-fa7f-4970-fe07-fb5d61323ac5"
      },
      "outputs": [],
      "source": [
        "!python -m train wandb=null experiment=hg38/hg38_hyena"
      ]
    },
    {
      "cell_type": "markdown",
      "metadata": {
        "id": "jEcgUR6Lljyg"
      },
      "source": [
        "### GenomicBenchmarks"
      ]
    },
    {
      "cell_type": "code",
      "execution_count": null,
      "metadata": {
        "colab": {
          "base_uri": "https://localhost:8080/"
        },
        "id": "8Z-fL04RmR2b",
        "outputId": "7a11a6a5-f584-42b8-8805-ce0a5381f9dc"
      },
      "outputs": [],
      "source": [
        "!python -m train \\\n",
        "    wandb=null \\\n",
        "    experiment=hg38/genomic_benchmark \\\n",
        "    +dataset_name=human_enhancers_cohn \\\n",
        "    train.pretrained_model_path=... \\\n",
        "    dataset.max_length=500"
      ]
    },
    {
      "cell_type": "markdown",
      "metadata": {},
      "source": [
        "# Orchid"
      ]
    },
    {
      "cell_type": "markdown",
      "metadata": {},
      "source": [
        "### Pretrain"
      ]
    },
    {
      "cell_type": "code",
      "execution_count": null,
      "metadata": {},
      "outputs": [],
      "source": [
        "!python -m train wandb=null experiment=hg38/hg38_orchid"
      ]
    },
    {
      "cell_type": "markdown",
      "metadata": {},
      "source": [
        "### GenomicBenchmarks"
      ]
    },
    {
      "cell_type": "code",
      "execution_count": null,
      "metadata": {},
      "outputs": [],
      "source": [
        "!python -m train \\\n",
        "    wandb=null \\\n",
        "    experiment=hg38/genomic_benchmark_orchid \\\n",
        "    +dataset_name=human_enhancers_cohn \\\n",
        "    train.pretrained_model_path=... \\\n",
        "    dataset.max_length=500"
      ]
    }
  ],
  "metadata": {
    "accelerator": "GPU",
    "colab": {
      "gpuType": "T4",
      "provenance": []
    },
    "kernelspec": {
      "display_name": "ml4",
      "language": "python",
      "name": "python3"
    },
    "language_info": {
      "codemirror_mode": {
        "name": "ipython",
        "version": 3
      },
      "file_extension": ".py",
      "mimetype": "text/x-python",
      "name": "python",
      "nbconvert_exporter": "python",
      "pygments_lexer": "ipython3",
      "version": "3.11.11"
    }
  },
  "nbformat": 4,
  "nbformat_minor": 0
}
